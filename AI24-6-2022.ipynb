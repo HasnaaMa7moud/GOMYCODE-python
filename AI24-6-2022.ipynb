{
 "cells": [
  {
   "cell_type": "code",
   "execution_count": 1,
   "id": "38a57393-9a32-47a3-8590-70675a29b218",
   "metadata": {},
   "outputs": [],
   "source": [
    "#Instructions\n",
    "\n",
    "   # Install Python by following the method you prefer (with Anaconda /cmd)  and according to your operating system(Linux/Windows). We suggest you install it with  Anaconda since it's easier for beginners.\n",
    "   # Once you finish the installation, check your Python version using the python --version command\n",
    "   # Now install Jupyter Notebook (skip this step if you have Anaconda installed)\n",
    "   # Open your Jupyter notebook (go to the Anaconda navigator and click on Jupyter Notebook)\n",
    "   # Create a new notebook\n",
    "   # Now in the first cell type: print(\"Welcome to python world! Let's start coding\"), run and see the result.\n",
    "   # Save the notebook and share its extension with us.\n",
    "   # Submit your project"
   ]
  },
  {
   "cell_type": "code",
   "execution_count": 3,
   "id": "fa166599-441d-4a6a-9738-58165ea353b3",
   "metadata": {},
   "outputs": [
    {
     "name": "stdout",
     "output_type": "stream",
     "text": [
      "3.8.10\n"
     ]
    }
   ],
   "source": [
    "from platform import python_version\n",
    "print(python_version())"
   ]
  },
  {
   "cell_type": "code",
   "execution_count": 4,
   "id": "7c194bf8-f977-4362-ad01-7a0d840e20e7",
   "metadata": {},
   "outputs": [
    {
     "name": "stdout",
     "output_type": "stream",
     "text": [
      "Welcome to python world! Let's start coding\n"
     ]
    }
   ],
   "source": [
    "print(\"Welcome to python world! Let's start coding\")"
   ]
  }
 ],
 "metadata": {
  "kernelspec": {
   "display_name": "Python 3 (ipykernel)",
   "language": "python",
   "name": "python3"
  },
  "language_info": {
   "codemirror_mode": {
    "name": "ipython",
    "version": 3
   },
   "file_extension": ".py",
   "mimetype": "text/x-python",
   "name": "python",
   "nbconvert_exporter": "python",
   "pygments_lexer": "ipython3",
   "version": "3.8.10"
  }
 },
 "nbformat": 4,
 "nbformat_minor": 5
}
