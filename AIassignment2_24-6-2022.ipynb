{
 "cells": [
  {
   "cell_type": "code",
   "execution_count": 1,
   "id": "061873bd-e89b-4118-a431-981109fa54f5",
   "metadata": {},
   "outputs": [],
   "source": [
    "#Objective\n",
    " \n",
    "\n",
    "#In this checkpoint, we'll be testing your Python skills! \n",
    "\n",
    "#Question 1\n",
    "\n",
    "#Write a program that will find all numbers which are divisible by 7 but are not a multiple of 5, between 2000 and 3200 (both included). The numbers obtained should be printed in a list.\n",
    "\n",
    "#Hint: Consider using the range(#begin, #end) method"
   ]
  },
  {
   "cell_type": "code",
   "execution_count": 34,
   "id": "06774eb6-6251-4860-ace4-fb1cd5984b35",
   "metadata": {},
   "outputs": [
    {
     "name": "stdout",
     "output_type": "stream",
     "text": [
      "[2002, 2009, 2016, 2023, 2037, 2044, 2051, 2058, 2072, 2079, 2086, 2093, 2107, 2114, 2121, 2128, 2142, 2149, 2156, 2163, 2177, 2184, 2191, 2198, 2212, 2219, 2226, 2233, 2247, 2254, 2261, 2268, 2282, 2289, 2296, 2303, 2317, 2324, 2331, 2338, 2352, 2359, 2366, 2373, 2387, 2394, 2401, 2408, 2422, 2429, 2436, 2443, 2457, 2464, 2471, 2478, 2492, 2499, 2506, 2513, 2527, 2534, 2541, 2548, 2562, 2569, 2576, 2583, 2597, 2604, 2611, 2618, 2632, 2639, 2646, 2653, 2667, 2674, 2681, 2688, 2702, 2709, 2716, 2723, 2737, 2744, 2751, 2758, 2772, 2779, 2786, 2793, 2807, 2814, 2821, 2828, 2842, 2849, 2856, 2863, 2877, 2884, 2891, 2898, 2912, 2919, 2926, 2933, 2947, 2954, 2961, 2968, 2982, 2989, 2996, 3003, 3017, 3024, 3031, 3038, 3052, 3059, 3066, 3073, 3087, 3094, 3101, 3108, 3122, 3129, 3136, 3143, 3157, 3164, 3171, 3178, 3192, 3199]\n"
     ]
    }
   ],
   "source": [
    "#Q1_Answer;\n",
    "##########\n",
    "j=[]\n",
    "for i in range (2000,3200):\n",
    "    if (i%7==0) and (i%5!=0):\n",
    "        j.append(i)\n",
    "print(j)"
   ]
  },
  {
   "cell_type": "code",
   "execution_count": 13,
   "id": "6d9356af-e8bf-4d8f-8d7c-3701f4f913c4",
   "metadata": {},
   "outputs": [],
   "source": [
    "#Question 2 \n",
    "\n",
    "# Write a program that can compute the factorial of a given number. (The factorial of n is the product of all positive integers less than or equal to n.)\n",
    "#For example: For factorial(5)= 5 x 4 x 3 x 2 x 1 the result is 120 (i.e. factorial (0)=1).\n",
    "    "
   ]
  },
  {
   "cell_type": "code",
   "execution_count": 30,
   "id": "97c5b8cd-3434-4748-9665-c81a1262734b",
   "metadata": {},
   "outputs": [
    {
     "name": "stdout",
     "output_type": "stream",
     "text": [
      "120\n"
     ]
    }
   ],
   "source": [
    "#Q2_Answer:\n",
    "##########\n",
    "n=5\n",
    "def factorial(n):\n",
    "    if n == 1:\n",
    "        return n\n",
    "    else:\n",
    "        return n*factorial(n-1)\n",
    "print(factorial(n))"
   ]
  },
  {
   "cell_type": "code",
   "execution_count": 3,
   "id": "095ee5f7-9e36-487c-af3b-5887b2a97e76",
   "metadata": {},
   "outputs": [],
   "source": [
    "#Question 3 \n",
    "\n",
    "#With a given integer number n, write a program to generate a dictionary that contains (i, i*i) \n",
    "#such that is an integral number between 1 and n (both included). Then, the program should print the dictionary.\n",
    "#Suppose the following input is supplied to the program: 8 Then, the output should be: {1: 1, 2: 4, 3: 9, 4: 16, 5: 25, 6: 36, 7: 49, 8: 64} "
   ]
  },
  {
   "cell_type": "code",
   "execution_count": 14,
   "id": "eda7f4af-b9f2-48e8-87d8-c5bad5a5fb4b",
   "metadata": {},
   "outputs": [
    {
     "name": "stdin",
     "output_type": "stream",
     "text": [
      " 8\n"
     ]
    },
    {
     "name": "stdout",
     "output_type": "stream",
     "text": [
      "{1: 1, 2: 4, 3: 9, 4: 16, 5: 25, 6: 36, 7: 49, 8: 64}\n"
     ]
    }
   ],
   "source": [
    "import math\n",
    "n = int(input())\n",
    "dicts = {i : i*i for i in range(1, n+1)}\n",
    "print(dicts)"
   ]
  },
  {
   "cell_type": "code",
   "execution_count": 27,
   "id": "a3bde87a-4672-4c84-b661-8e61ac831019",
   "metadata": {},
   "outputs": [],
   "source": [
    "#Question 4 \n",
    "\n",
    "#Given a non-empty string and an integral n, return a new string where the char at index n has been removed. \n",
    "#The value of n will be a valid index of a char in the original string (i.e. n will be in the range 0..len(str)-1 inclusive). \n",
    "\n",
    "#missing_char('kitten', 1) → 'ktten'    for example here we remove \"i\" which is located in the index 1\n",
    "\n",
    "#missing_char('kitten', 0) → 'itten'   here we remove \"k\" which is in the index 0\n",
    "\n",
    "#missing_char('kitten', 4) → 'kittn'   here we remove \"e\" which is in the index 4"
   ]
  },
  {
   "cell_type": "code",
   "execution_count": 8,
   "id": "d6c75635-3403-4c31-9774-ab020e1cf783",
   "metadata": {},
   "outputs": [],
   "source": [
    "str=\"kitten\"\n",
    "n=1\n",
    "def missing_char(str, n):\n",
    "    return str.replace(str[n], \"\") "
   ]
  },
  {
   "cell_type": "code",
   "execution_count": 5,
   "id": "dcd0e984-f2f4-432e-89c6-55b0dd782471",
   "metadata": {},
   "outputs": [],
   "source": [
    "#Question 5 \n",
    "\n",
    "#Write a NumPy program to convert a NumPy array into a Python list structure.\n",
    "\n",
    "#Expected output: \n",
    "\n",
    "#Original array elements: [[0 1] [2 3] [4 5]] \n",
    "\n",
    "#Array to list: [[0, 1], [2, 3], [4, 5]] \n",
    " \n",
    "\n",
    "#Hint: We can use the to_list() function to ensure the conversion."
   ]
  },
  {
   "cell_type": "code",
   "execution_count": 29,
   "id": "f9acf84a-6a7b-4650-8cc4-466e7c671e0a",
   "metadata": {},
   "outputs": [
    {
     "name": "stdout",
     "output_type": "stream",
     "text": [
      "Array To List [[0, 1], [2, 3], [4, 5]]\n"
     ]
    }
   ],
   "source": [
    "#Q5_Answer:\n",
    "###########\n",
    "import numpy as np\n",
    "Original_array=np.array([[0 ,1], [2, 3], [4 , 5]])\n",
    "print(\"Array To List\", Original_array.tolist())\n"
   ]
  },
  {
   "cell_type": "code",
   "execution_count": 6,
   "id": "03cc7b4f-f662-4f5d-b0f7-09fafb86a6f2",
   "metadata": {},
   "outputs": [],
   "source": [
    "#Question 6\n",
    "\n",
    "#Write a NumPy program to compute the covariance matrix of two given arrays. \n",
    "\n",
    "#Original array1: [0 1 2] \n",
    "\n",
    "#Original array2: [2 1 0] \n",
    "\n",
    "#Covariance matrix of the said arrays: [[ 1. -1.] [-1. 1.]]\n",
    " \n",
    "\n",
    "#Hint: We can use the np.cov() function to calculate the covariance between these two arrays"
   ]
  },
  {
   "cell_type": "code",
   "execution_count": 21,
   "id": "e9504617-b8a1-4877-a772-ab311b84930a",
   "metadata": {},
   "outputs": [
    {
     "name": "stdout",
     "output_type": "stream",
     "text": [
      "the covariance between these two arrays: [[ 1. -1.]\n",
      " [-1.  1.]]\n"
     ]
    }
   ],
   "source": [
    "import numpy as np\n",
    "array1=np.array([0 , 1 , 2])\n",
    "array2=np.array([2 , 1 ,0])\n",
    "print (\"the covariance between these two arrays:\", np.cov(array1, array2))"
   ]
  },
  {
   "cell_type": "code",
   "execution_count": 7,
   "id": "f9250218-96b8-4b68-9bd8-06b1d4f92b93",
   "metadata": {},
   "outputs": [],
   "source": [
    "#Question 7\n",
    "\n",
    "#Question: Write a program that calculates and prints the value according to the given formula: Q= Square root of [(2 * C * D)/H] \n",
    "\n",
    "#The following are the fixed values of C and H: C is 50. H is 30. \n",
    "\n",
    "#D is the variable whose values should be input into your program in a comma-separated sequence. (That means D contains more than value)\n",
    "\n",
    "#Example: Let's assume the following comma-separated input sequence is given to the program: 100,150,180 The output of the program should be 18,22,24 \n",
    "#To further explain this, we will obtain a result for each value of D:  Q1= Square root of [(2 * C * 100)/H] =18, Q2= Square root of [(2 * C * 150)/H] = 22 and \n",
    "#Q3 = Square root of [(2 * C * 180)/H]  = 24\n",
    "\n",
    "#Hint: If the output received is in decimal form, it should be rounded off to its nearest value. For example, if the output received is 26.0, it should be printed as 26. \n",
    "#In case of input data being supplied to the question, it should be assumed to be a console input. \n"
   ]
  },
  {
   "cell_type": "code",
   "execution_count": 16,
   "id": "9f7d9b4f-f658-48d1-b455-07c67f217d4a",
   "metadata": {},
   "outputs": [
    {
     "name": "stdin",
     "output_type": "stream",
     "text": [
      "the D: 5\n"
     ]
    },
    {
     "name": "stdout",
     "output_type": "stream",
     "text": [
      "5\n"
     ]
    },
    {
     "ename": "TypeError",
     "evalue": "'NoneType' object is not iterable",
     "output_type": "error",
     "traceback": [
      "\u001b[0;31m---------------------------------------------------------------------------\u001b[0m",
      "\u001b[0;31mTypeError\u001b[0m                                 Traceback (most recent call last)",
      "Input \u001b[0;32mIn [16]\u001b[0m, in \u001b[0;36m<cell line: 5>\u001b[0;34m()\u001b[0m\n\u001b[1;32m      3\u001b[0m H\u001b[38;5;241m=\u001b[39m\u001b[38;5;241m30\u001b[39m\n\u001b[1;32m      4\u001b[0m Num\u001b[38;5;241m=\u001b[39m\u001b[38;5;28mprint\u001b[39m(\u001b[38;5;28minput\u001b[39m(\u001b[38;5;124m\"\u001b[39m\u001b[38;5;124mthe D:\u001b[39m\u001b[38;5;124m\"\u001b[39m))\n\u001b[0;32m----> 5\u001b[0m \u001b[38;5;28;01mfor\u001b[39;00m D \u001b[38;5;129;01min\u001b[39;00m Num:\n\u001b[1;32m      6\u001b[0m     \u001b[38;5;28mprint\u001b[39m(Num)\n\u001b[1;32m      7\u001b[0m Q \u001b[38;5;241m=\u001b[39m math\u001b[38;5;241m.\u001b[39msqrt((\u001b[38;5;241m2\u001b[39m \u001b[38;5;241m*\u001b[39m C \u001b[38;5;241m*\u001b[39m D)\u001b[38;5;241m/\u001b[39mH)\n",
      "\u001b[0;31mTypeError\u001b[0m: 'NoneType' object is not iterable"
     ]
    }
   ],
   "source": [
    "import math\n",
    "C=50\n",
    "H=30\n",
    "Num=print(input(\"the D:\"))\n",
    "for D in Num:\n",
    "    \n",
    "Q = math.sqrt((2 * C * D)/H)\n",
    "print(Q)"
   ]
  },
  {
   "cell_type": "code",
   "execution_count": null,
   "id": "e0afcd85-2a50-4f98-90f4-c9634bad2ee8",
   "metadata": {},
   "outputs": [],
   "source": []
  }
 ],
 "metadata": {
  "kernelspec": {
   "display_name": "Python 3 (ipykernel)",
   "language": "python",
   "name": "python3"
  },
  "language_info": {
   "codemirror_mode": {
    "name": "ipython",
    "version": 3
   },
   "file_extension": ".py",
   "mimetype": "text/x-python",
   "name": "python",
   "nbconvert_exporter": "python",
   "pygments_lexer": "ipython3",
   "version": "3.8.10"
  }
 },
 "nbformat": 4,
 "nbformat_minor": 5
}
